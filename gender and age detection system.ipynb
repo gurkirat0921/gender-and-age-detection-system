{
 "cells": [
  {
   "cell_type": "code",
   "execution_count": 1,
   "id": "9db67ac0",
   "metadata": {},
   "outputs": [],
   "source": [
    "import sys"
   ]
  },
  {
   "cell_type": "code",
   "execution_count": 2,
   "id": "f1e10168",
   "metadata": {},
   "outputs": [
    {
     "name": "stdout",
     "output_type": "stream",
     "text": [
      "Collecting package metadata (current_repodata.json): ...working... done\n",
      "Solving environment: ...working... done\n",
      "\n",
      "# All requested packages already installed.\n",
      "\n"
     ]
    },
    {
     "name": "stderr",
     "output_type": "stream",
     "text": [
      "\n",
      "\n",
      "==> WARNING: A newer version of conda exists. <==\n",
      "  current version: 23.5.2\n",
      "  latest version: 23.9.0\n",
      "\n",
      "Please update conda by running\n",
      "\n",
      "    $ conda update -n base -c defaults conda\n",
      "\n",
      "Or to minimize the number of packages updated during conda update use\n",
      "\n",
      "     conda install conda=23.9.0\n",
      "\n",
      "\n"
     ]
    }
   ],
   "source": [
    "!conda install --yes --prefix {sys.prefix} tensorflow"
   ]
  },
  {
   "cell_type": "code",
   "execution_count": 3,
   "id": "abbdb4f5",
   "metadata": {},
   "outputs": [],
   "source": [
    "import numpy as np\n",
    "import numpy as np \n",
    "import pandas as pd \n",
    "import matplotlib.pyplot as plt\n",
    "import seaborn as sns\n",
    "sns.set()\n",
    "from keras.models import Sequential\n",
    "from keras.layers import Conv2D, Dropout, BatchNormalization, Flatten, Dense, MaxPooling2D\n",
    "from keras.utils import to_categorical\n",
    "from keras.callbacks import EarlyStopping, ReduceLROnPlateau\n",
    "from keras.optimizers import Adam\n",
    "\n",
    "from sklearn.metrics import mean_absolute_error, confusion_matrix, classification_report\n",
    "from sklearn.model_selection import train_test_split\n",
    "\n",
    "import warnings\n",
    "warnings.filterwarnings(\"ignore\")"
   ]
  },
  {
   "cell_type": "code",
   "execution_count": 4,
   "id": "4fa1a500",
   "metadata": {},
   "outputs": [],
   "source": [
    "df = pd.read_csv(\"age_gender.csv\")"
   ]
  },
  {
   "cell_type": "code",
   "execution_count": 5,
   "id": "4a56fe2d",
   "metadata": {},
   "outputs": [
    {
     "data": {
      "text/html": [
       "<div>\n",
       "<style scoped>\n",
       "    .dataframe tbody tr th:only-of-type {\n",
       "        vertical-align: middle;\n",
       "    }\n",
       "\n",
       "    .dataframe tbody tr th {\n",
       "        vertical-align: top;\n",
       "    }\n",
       "\n",
       "    .dataframe thead th {\n",
       "        text-align: right;\n",
       "    }\n",
       "</style>\n",
       "<table border=\"1\" class=\"dataframe\">\n",
       "  <thead>\n",
       "    <tr style=\"text-align: right;\">\n",
       "      <th></th>\n",
       "      <th>age</th>\n",
       "      <th>ethnicity</th>\n",
       "      <th>gender</th>\n",
       "      <th>img_name</th>\n",
       "      <th>pixels</th>\n",
       "    </tr>\n",
       "  </thead>\n",
       "  <tbody>\n",
       "    <tr>\n",
       "      <th>0</th>\n",
       "      <td>1</td>\n",
       "      <td>2</td>\n",
       "      <td>0</td>\n",
       "      <td>20161219203650636.jpg.chip.jpg</td>\n",
       "      <td>129 128 128 126 127 130 133 135 139 142 145 14...</td>\n",
       "    </tr>\n",
       "    <tr>\n",
       "      <th>1</th>\n",
       "      <td>1</td>\n",
       "      <td>2</td>\n",
       "      <td>0</td>\n",
       "      <td>20161219222752047.jpg.chip.jpg</td>\n",
       "      <td>164 74 111 168 169 171 175 182 184 188 193 199...</td>\n",
       "    </tr>\n",
       "    <tr>\n",
       "      <th>2</th>\n",
       "      <td>1</td>\n",
       "      <td>2</td>\n",
       "      <td>0</td>\n",
       "      <td>20161219222832191.jpg.chip.jpg</td>\n",
       "      <td>67 70 71 70 69 67 70 79 90 103 116 132 145 155...</td>\n",
       "    </tr>\n",
       "    <tr>\n",
       "      <th>3</th>\n",
       "      <td>1</td>\n",
       "      <td>2</td>\n",
       "      <td>0</td>\n",
       "      <td>20161220144911423.jpg.chip.jpg</td>\n",
       "      <td>193 197 198 200 199 200 202 203 204 205 208 21...</td>\n",
       "    </tr>\n",
       "    <tr>\n",
       "      <th>4</th>\n",
       "      <td>1</td>\n",
       "      <td>2</td>\n",
       "      <td>0</td>\n",
       "      <td>20161220144914327.jpg.chip.jpg</td>\n",
       "      <td>202 205 209 210 209 209 210 211 212 214 218 21...</td>\n",
       "    </tr>\n",
       "    <tr>\n",
       "      <th>...</th>\n",
       "      <td>...</td>\n",
       "      <td>...</td>\n",
       "      <td>...</td>\n",
       "      <td>...</td>\n",
       "      <td>...</td>\n",
       "    </tr>\n",
       "    <tr>\n",
       "      <th>23700</th>\n",
       "      <td>99</td>\n",
       "      <td>0</td>\n",
       "      <td>1</td>\n",
       "      <td>20170120221920654.jpg.chip.jpg</td>\n",
       "      <td>127 100 94 81 77 77 74 99 102 98 128 145 160 1...</td>\n",
       "    </tr>\n",
       "    <tr>\n",
       "      <th>23701</th>\n",
       "      <td>99</td>\n",
       "      <td>1</td>\n",
       "      <td>1</td>\n",
       "      <td>20170120134639935.jpg.chip.jpg</td>\n",
       "      <td>23 28 32 35 42 47 68 85 98 103 113 117 130 129...</td>\n",
       "    </tr>\n",
       "    <tr>\n",
       "      <th>23702</th>\n",
       "      <td>99</td>\n",
       "      <td>2</td>\n",
       "      <td>1</td>\n",
       "      <td>20170110182418864.jpg.chip.jpg</td>\n",
       "      <td>59 50 37 40 34 19 30 101 156 170 177 184 187 1...</td>\n",
       "    </tr>\n",
       "    <tr>\n",
       "      <th>23703</th>\n",
       "      <td>99</td>\n",
       "      <td>2</td>\n",
       "      <td>1</td>\n",
       "      <td>20170117195405372.jpg.chip.jpg</td>\n",
       "      <td>45 108 120 156 206 197 140 180 191 199 204 207...</td>\n",
       "    </tr>\n",
       "    <tr>\n",
       "      <th>23704</th>\n",
       "      <td>99</td>\n",
       "      <td>0</td>\n",
       "      <td>1</td>\n",
       "      <td>20170110182052119.jpg.chip.jpg</td>\n",
       "      <td>156 161 160 165 170 173 166 177 183 191 187 18...</td>\n",
       "    </tr>\n",
       "  </tbody>\n",
       "</table>\n",
       "<p>23705 rows × 5 columns</p>\n",
       "</div>"
      ],
      "text/plain": [
       "       age  ethnicity  gender                        img_name  \\\n",
       "0        1          2       0  20161219203650636.jpg.chip.jpg   \n",
       "1        1          2       0  20161219222752047.jpg.chip.jpg   \n",
       "2        1          2       0  20161219222832191.jpg.chip.jpg   \n",
       "3        1          2       0  20161220144911423.jpg.chip.jpg   \n",
       "4        1          2       0  20161220144914327.jpg.chip.jpg   \n",
       "...    ...        ...     ...                             ...   \n",
       "23700   99          0       1  20170120221920654.jpg.chip.jpg   \n",
       "23701   99          1       1  20170120134639935.jpg.chip.jpg   \n",
       "23702   99          2       1  20170110182418864.jpg.chip.jpg   \n",
       "23703   99          2       1  20170117195405372.jpg.chip.jpg   \n",
       "23704   99          0       1  20170110182052119.jpg.chip.jpg   \n",
       "\n",
       "                                                  pixels  \n",
       "0      129 128 128 126 127 130 133 135 139 142 145 14...  \n",
       "1      164 74 111 168 169 171 175 182 184 188 193 199...  \n",
       "2      67 70 71 70 69 67 70 79 90 103 116 132 145 155...  \n",
       "3      193 197 198 200 199 200 202 203 204 205 208 21...  \n",
       "4      202 205 209 210 209 209 210 211 212 214 218 21...  \n",
       "...                                                  ...  \n",
       "23700  127 100 94 81 77 77 74 99 102 98 128 145 160 1...  \n",
       "23701  23 28 32 35 42 47 68 85 98 103 113 117 130 129...  \n",
       "23702  59 50 37 40 34 19 30 101 156 170 177 184 187 1...  \n",
       "23703  45 108 120 156 206 197 140 180 191 199 204 207...  \n",
       "23704  156 161 160 165 170 173 166 177 183 191 187 18...  \n",
       "\n",
       "[23705 rows x 5 columns]"
      ]
     },
     "execution_count": 5,
     "metadata": {},
     "output_type": "execute_result"
    }
   ],
   "source": [
    "df"
   ]
  },
  {
   "cell_type": "code",
   "execution_count": 6,
   "id": "a937477d",
   "metadata": {},
   "outputs": [
    {
     "data": {
      "text/html": [
       "<div>\n",
       "<style scoped>\n",
       "    .dataframe tbody tr th:only-of-type {\n",
       "        vertical-align: middle;\n",
       "    }\n",
       "\n",
       "    .dataframe tbody tr th {\n",
       "        vertical-align: top;\n",
       "    }\n",
       "\n",
       "    .dataframe thead th {\n",
       "        text-align: right;\n",
       "    }\n",
       "</style>\n",
       "<table border=\"1\" class=\"dataframe\">\n",
       "  <thead>\n",
       "    <tr style=\"text-align: right;\">\n",
       "      <th></th>\n",
       "      <th>count</th>\n",
       "      <th>mean</th>\n",
       "      <th>std</th>\n",
       "      <th>min</th>\n",
       "      <th>25%</th>\n",
       "      <th>50%</th>\n",
       "      <th>75%</th>\n",
       "      <th>max</th>\n",
       "    </tr>\n",
       "  </thead>\n",
       "  <tbody>\n",
       "    <tr>\n",
       "      <th>age</th>\n",
       "      <td>23705.0</td>\n",
       "      <td>33.300907</td>\n",
       "      <td>19.885708</td>\n",
       "      <td>1.0</td>\n",
       "      <td>23.0</td>\n",
       "      <td>29.0</td>\n",
       "      <td>45.0</td>\n",
       "      <td>116.0</td>\n",
       "    </tr>\n",
       "    <tr>\n",
       "      <th>ethnicity</th>\n",
       "      <td>23705.0</td>\n",
       "      <td>1.269226</td>\n",
       "      <td>1.345638</td>\n",
       "      <td>0.0</td>\n",
       "      <td>0.0</td>\n",
       "      <td>1.0</td>\n",
       "      <td>2.0</td>\n",
       "      <td>4.0</td>\n",
       "    </tr>\n",
       "    <tr>\n",
       "      <th>gender</th>\n",
       "      <td>23705.0</td>\n",
       "      <td>0.477283</td>\n",
       "      <td>0.499494</td>\n",
       "      <td>0.0</td>\n",
       "      <td>0.0</td>\n",
       "      <td>0.0</td>\n",
       "      <td>1.0</td>\n",
       "      <td>1.0</td>\n",
       "    </tr>\n",
       "  </tbody>\n",
       "</table>\n",
       "</div>"
      ],
      "text/plain": [
       "             count       mean        std  min   25%   50%   75%    max\n",
       "age        23705.0  33.300907  19.885708  1.0  23.0  29.0  45.0  116.0\n",
       "ethnicity  23705.0   1.269226   1.345638  0.0   0.0   1.0   2.0    4.0\n",
       "gender     23705.0   0.477283   0.499494  0.0   0.0   0.0   1.0    1.0"
      ]
     },
     "execution_count": 6,
     "metadata": {},
     "output_type": "execute_result"
    }
   ],
   "source": [
    "df.describe().transpose()"
   ]
  },
  {
   "cell_type": "code",
   "execution_count": 7,
   "id": "27516606",
   "metadata": {},
   "outputs": [],
   "source": [
    "df = df.drop('ethnicity',axis=1)"
   ]
  },
  {
   "cell_type": "code",
   "execution_count": 8,
   "id": "bc725ef8",
   "metadata": {},
   "outputs": [
    {
     "data": {
      "text/plain": [
       "<Axes: xlabel='age', ylabel='Density'>"
      ]
     },
     "execution_count": 8,
     "metadata": {},
     "output_type": "execute_result"
    },
    {
     "data": {
      "image/png": "[encoded data removed]",
      "text/plain": [
       "<Figure size 640x480 with 1 Axes>"
      ]
     },
     "metadata": {},
     "output_type": "display_data"
    }
   ],
   "source": [
    "import seaborn as sns\n",
    "sns.distplot(df['age'])"
   ]
  },
  {
   "cell_type": "code",
   "execution_count": 9,
   "id": "841c6890",
   "metadata": {},
   "outputs": [],
   "source": [
    "def convert_pixels(x):\n",
    "    return np.array(x.split(' '), dtype=np.float32).reshape(48, 48)\n",
    "\n",
    "df['pixels'] = df['pixels'].map(convert_pixels)"
   ]
  },
  {
   "cell_type": "code",
   "execution_count": 10,
   "id": "09e080ec",
   "metadata": {},
   "outputs": [
    {
     "data": {
      "image/png": "[encoded data removed]",
      "text/plain": [
       "<Figure size 2000x1000 with 5 Axes>"
      ]
     },
     "metadata": {},
     "output_type": "display_data"
    }
   ],
   "source": [
    "import matplotlib.pyplot as plt \n",
    "fig, axes = plt.subplots(1, 5, figsize=(20, 10))\n",
    "\n",
    "for i in range(5):\n",
    "    random_face = np.random.choice(len(df))\n",
    "\n",
    "    age = df['age'][random_face]\n",
    "    gender = df['gender'][random_face]\n",
    "\n",
    "    axes[i].set_title('Age: {0}, Sex: {1}'.format(age, gender))\n",
    "    axes[i].imshow(df['pixels'][random_face])\n",
    "    axes[i].axis('off')"
   ]
  },
  {
   "cell_type": "code",
   "execution_count": 11,
   "id": "0b9b507b",
   "metadata": {},
   "outputs": [],
   "source": [
    "X = np.array(df['pixels'].to_list())\n",
    "X_reshaped = X.reshape(X.shape[0], 48, 48, 1)\n",
    "if np.max(X_reshaped) > 1:\n",
    "     X_reshaped = X_reshaped / 255"
   ]
  },
  {
   "cell_type": "code",
   "execution_count": 12,
   "id": "d4824532",
   "metadata": {},
   "outputs": [],
   "source": [
    "input_shape = X_reshaped.shape[1:]\n",
    "\n",
    "n_epochs = 15\n",
    "batch_size = 64\n",
    "y = df['age'].values"
   ]
  },
  {
   "cell_type": "markdown",
   "id": "335931b1",
   "metadata": {},
   "source": [
    "## age model development"
   ]
  },
  {
   "cell_type": "code",
   "execution_count": 13,
   "id": "fac5acfb",
   "metadata": {},
   "outputs": [],
   "source": [
    "from sklearn.model_selection import train_test_split\n",
    "X_train, X_test, y_train, y_test = train_test_split(X_reshaped, y, test_size=0.2,random_state=42) "
   ]
  },
  {
   "cell_type": "code",
   "execution_count": 14,
   "id": "7c51680e",
   "metadata": {},
   "outputs": [
    {
     "name": "stdout",
     "output_type": "stream",
     "text": [
      "Model: \"sequential\"\n",
      "_________________________________________________________________\n",
      " Layer (type)                Output Shape              Param #   \n",
      "=================================================================\n",
      " conv2d (Conv2D)             (None, 46, 46, 64)        640       \n",
      "                                                                 \n",
      " max_pooling2d (MaxPooling2D  (None, 23, 23, 64)       0         \n",
      " )                                                               \n",
      "                                                                 \n",
      " batch_normalization (BatchN  (None, 23, 23, 64)       256       \n",
      " ormalization)                                                   \n",
      "                                                                 \n",
      " conv2d_1 (Conv2D)           (None, 23, 23, 64)        36928     \n",
      "                                                                 \n",
      " conv2d_2 (Conv2D)           (None, 21, 21, 64)        36928     \n",
      "                                                                 \n",
      " max_pooling2d_1 (MaxPooling  (None, 10, 10, 64)       0         \n",
      " 2D)                                                             \n",
      "                                                                 \n",
      " dropout (Dropout)           (None, 10, 10, 64)        0         \n",
      "                                                                 \n",
      " batch_normalization_1 (Batc  (None, 10, 10, 64)       256       \n",
      " hNormalization)                                                 \n",
      "                                                                 \n",
      " conv2d_3 (Conv2D)           (None, 10, 10, 64)        36928     \n",
      "                                                                 \n",
      " conv2d_4 (Conv2D)           (None, 8, 8, 64)          36928     \n",
      "                                                                 \n",
      " max_pooling2d_2 (MaxPooling  (None, 4, 4, 64)         0         \n",
      " 2D)                                                             \n",
      "                                                                 \n",
      " dropout_1 (Dropout)         (None, 4, 4, 64)          0         \n",
      "                                                                 \n",
      " batch_normalization_2 (Batc  (None, 4, 4, 64)         256       \n",
      " hNormalization)                                                 \n",
      "                                                                 \n",
      " conv2d_5 (Conv2D)           (None, 4, 4, 128)         73856     \n",
      "                                                                 \n",
      " max_pooling2d_3 (MaxPooling  (None, 2, 2, 128)        0         \n",
      " 2D)                                                             \n",
      "                                                                 \n",
      " dropout_2 (Dropout)         (None, 2, 2, 128)         0         \n",
      "                                                                 \n",
      " batch_normalization_3 (Batc  (None, 2, 2, 128)        512       \n",
      " hNormalization)                                                 \n",
      "                                                                 \n",
      " flatten (Flatten)           (None, 512)               0         \n",
      "                                                                 \n",
      " dense (Dense)               (None, 128)               65664     \n",
      "                                                                 \n",
      " dropout_3 (Dropout)         (None, 128)               0         \n",
      "                                                                 \n",
      " dense_1 (Dense)             (None, 1)                 129       \n",
      "                                                                 \n",
      "=================================================================\n",
      "Total params: 289,281\n",
      "Trainable params: 288,641\n",
      "Non-trainable params: 640\n",
      "_________________________________________________________________\n"
     ]
    }
   ],
   "source": [
    "from keras.models import Sequential\n",
    "from keras.layers import Conv2D, Dropout, BatchNormalization, Flatten, Dense, MaxPooling2D\n",
    "from keras.utils import to_categorical\n",
    "from keras.callbacks import EarlyStopping, ReduceLROnPlateau\n",
    "from keras.optimizers import Adam\n",
    "age_model = Sequential()\n",
    "\n",
    "age_model.add(Conv2D(64, kernel_size=(3,3), input_shape=input_shape, activation='relu'))\n",
    "age_model.add(MaxPooling2D(pool_size=(2,2)))\n",
    "age_model.add(BatchNormalization())\n",
    "\n",
    "age_model.add(Conv2D(64, kernel_size=(3,3), activation='relu', padding='same'))\n",
    "age_model.add(Conv2D(64, kernel_size=(3,3), activation='relu'))\n",
    "age_model.add(MaxPooling2D(pool_size=(2,2)))\n",
    "age_model.add(Dropout(0.3))\n",
    "age_model.add(BatchNormalization())\n",
    "\n",
    "age_model.add(Conv2D(64, kernel_size=(3,3), activation='relu', padding='same'))\n",
    "age_model.add(Conv2D(64, kernel_size=(3,3), activation='relu'))\n",
    "age_model.add(MaxPooling2D(pool_size=(2,2)))\n",
    "age_model.add(Dropout(0.3))\n",
    "age_model.add(BatchNormalization())\n",
    "\n",
    "age_model.add(Conv2D(128, kernel_size=(3,3), activation='relu', padding='same'))\n",
    "age_model.add(MaxPooling2D(pool_size=(2,2)))\n",
    "age_model.add(Dropout(0.5))\n",
    "age_model.add(BatchNormalization())\n",
    "\n",
    "age_model.add(Flatten())\n",
    "age_model.add(Dense(128, activation='relu'))\n",
    "age_model.add(Dropout(0.4))\n",
    "age_model.add(Dense(1))\n",
    "\n",
    "age_model.compile(optimizer='adam', loss='mse')\n",
    "\n",
    "age_model.summary()"
   ]
  },
  {
   "cell_type": "code",
   "execution_count": 15,
   "id": "48629db2",
   "metadata": {},
   "outputs": [],
   "source": [
    "callbacks = [EarlyStopping(patience=4, monitor='val_loss', mode='min'),\n",
    "             ReduceLROnPlateau(patience=2, verbose=1)]"
   ]
  },
  {
   "cell_type": "code",
   "execution_count": null,
   "id": "3ec268c5",
   "metadata": {},
   "outputs": [
    {
     "name": "stdout",
     "output_type": "stream",
     "text": [
      "Epoch 1/15\n",
      "297/297 [==============================] - 92s 299ms/step - loss: 310.4029 - val_loss: 1702.6348 - lr: 0.0010\n",
      "Epoch 2/15\n",
      "297/297 [==============================] - 74s 249ms/step - loss: 153.4361 - val_loss: 2019.6094 - lr: 0.0010\n",
      "Epoch 3/15\n",
      "297/297 [==============================] - 76s 255ms/step - loss: 132.6306 - val_loss: 111.3142 - lr: 0.0010\n",
      "Epoch 4/15\n",
      "297/297 [==============================] - 72s 242ms/step - loss: 122.7205 - val_loss: 191.9424 - lr: 0.0010\n",
      "Epoch 5/15\n",
      "297/297 [==============================] - ETA: 0s - loss: 115.6682\n",
      "Epoch 5: ReduceLROnPlateau reducing learning rate to 0.00010000000474974513.\n",
      "297/297 [==============================] - 73s 247ms/step - loss: 115.6682 - val_loss: 117.8037 - lr: 0.0010\n",
      "Epoch 6/15\n",
      "297/297 [==============================] - 71s 240ms/step - loss: 101.5062 - val_loss: 86.0498 - lr: 1.0000e-04\n",
      "Epoch 7/15\n",
      "297/297 [==============================] - 71s 240ms/step - loss: 96.6998 - val_loss: 84.5527 - lr: 1.0000e-04\n",
      "Epoch 8/15\n",
      " 19/297 [>.............................] - ETA: 1:32 - loss: 89.3970"
     ]
    }
   ],
   "source": [
    "history = age_model.fit(X_train, y_train,\n",
    "                        epochs=n_epochs,\n",
    "                        batch_size=batch_size,\n",
    "                        callbacks=callbacks,\n",
    "                        validation_data=(X_test, y_test))"
   ]
  },
  {
   "cell_type": "code",
   "execution_count": null,
   "id": "732ce554",
   "metadata": {},
   "outputs": [],
   "source": [
    "pd.DataFrame(history.history).plot();"
   ]
  },
  {
   "cell_type": "code",
   "execution_count": null,
   "id": "6313b207",
   "metadata": {},
   "outputs": [],
   "source": [
    "y_pred = age_model.predict(X_test)"
   ]
  },
  {
   "cell_type": "code",
   "execution_count": null,
   "id": "5f567b4f",
   "metadata": {},
   "outputs": [],
   "source": [
    "from sklearn.metrics import mean_absolute_error, confusion_matrix, classification_report\n",
    "print(\"MAE: {}\".format(mean_absolute_error(y_test, y_pred)))"
   ]
  },
  {
   "cell_type": "code",
   "execution_count": null,
   "id": "6ac68e76",
   "metadata": {},
   "outputs": [],
   "source": [
    "plt.figure(figsize=(10, 5))\n",
    "plt.scatter(y_pred, y_test);"
   ]
  },
  {
   "cell_type": "markdown",
   "id": "30f30062",
   "metadata": {},
   "source": [
    "## Gender Model"
   ]
  },
  {
   "cell_type": "code",
   "execution_count": null,
   "id": "25640263",
   "metadata": {},
   "outputs": [],
   "source": [
    "y = df['gender'].values\n",
    "X_train, X_test, y_train, y_test = train_test_split(X_reshaped, y, test_size=0.2, random_state=42)"
   ]
  },
  {
   "cell_type": "code",
   "execution_count": null,
   "id": "db07fe0e",
   "metadata": {},
   "outputs": [],
   "source": [
    "gender_model = Sequential()\n",
    "\n",
    "gender_model.add(Conv2D(64, kernel_size=(3,3), input_shape=input_shape, activation='relu'))\n",
    "gender_model.add(MaxPooling2D(pool_size=(2,2)))\n",
    "gender_model.add(BatchNormalization())\n",
    "\n",
    "gender_model.add(Conv2D(64, kernel_size=(3,3), activation='relu'))\n",
    "#gender_model.add(Conv2D(128, kernel_size=(3,3), activation='relu'))\n",
    "gender_model.add(MaxPooling2D(pool_size=(2,2)))\n",
    "gender_model.add(Dropout(0.4))\n",
    "gender_model.add(BatchNormalization())\n",
    "\n",
    "gender_model.add(Conv2D(64, kernel_size=(3,3), activation='relu'))\n",
    "gender_model.add(Conv2D(64, kernel_size=(3,3), activation='relu'))\n",
    "gender_model.add(MaxPooling2D(pool_size=(2,2)))\n",
    "gender_model.add(Dropout(0.5))\n",
    "gender_model.add(BatchNormalization())\n",
    "\n",
    "gender_model.add(Flatten())\n",
    "\n",
    "gender_model.add(Dense(64, activation='relu'))\n",
    "gender_model.add(Dropout(0.4))\n",
    "\n",
    "gender_model.add(Dense(1, activation='sigmoid')) #For binary classification activation function is sigmoid \n",
    "\n",
    "gender_model.compile(optimizer='adam', loss='binary_crossentropy', metrics=['accuracy']) #...and loss function is binary_crossentropy\n",
    "\n",
    "gender_model.summary()"
   ]
  },
  {
   "cell_type": "code",
   "execution_count": null,
   "id": "08186348",
   "metadata": {},
   "outputs": [],
   "source": [
    "callbacks = [EarlyStopping(patience=4, monitor='val_accuracy', mode='max'), \n",
    "              ReduceLROnPlateau(patience=2, verbose=1)]"
   ]
  },
  {
   "cell_type": "code",
   "execution_count": null,
   "id": "301a8283",
   "metadata": {},
   "outputs": [],
   "source": [
    "history = gender_model.fit(X_train, y_train, \n",
    "                           epochs=n_epochs,\n",
    "                           batch_size=batch_size,\n",
    "                           callbacks=callbacks,\n",
    "                           validation_data=(X_test, y_test))"
   ]
  },
  {
   "cell_type": "code",
   "execution_count": null,
   "id": "f6595ba1",
   "metadata": {},
   "outputs": [],
   "source": [
    "valid_score = gender_model.evaluate(X_test, y_test, verbose=1)\n",
    "print('Accuracy for test set: {0}'.format(valid_score[1]))"
   ]
  },
  {
   "cell_type": "code",
   "execution_count": null,
   "id": "c7587768",
   "metadata": {},
   "outputs": [],
   "source": [
    "from keras.models import Sequential\n",
    "from keras.layers import Conv2D, Dropout, BatchNormalization, Flatten, Dense, MaxPooling2D\n",
    "from keras.utils import to_categorical\n",
    "from keras.callbacks import EarlyStopping, ReduceLROnPlateau\n",
    "from keras.optimizers import Adam\n",
    "y_pred = (gender_model.predict(X_test) > 0.5).astype(\"int32\")"
   ]
  },
  {
   "cell_type": "code",
   "execution_count": null,
   "id": "1a069300",
   "metadata": {},
   "outputs": [],
   "source": [
    "print(classification_report(y_test, y_pred))"
   ]
  },
  {
   "cell_type": "code",
   "execution_count": null,
   "id": "6482cfab",
   "metadata": {},
   "outputs": [],
   "source": [
    "cm = confusion_matrix(y_test, y_pred)\n",
    "sns.heatmap(cm, cmap='Greens', cbar=False, annot=True, fmt='d');"
   ]
  },
  {
   "cell_type": "code",
   "execution_count": null,
   "id": "255ddea9",
   "metadata": {},
   "outputs": [],
   "source": [
    "y_pred = y_pred.reshape(y_pred.shape[0])\n",
    "X_fp = X_test[(y_pred == 1) & (y_test == 0)] \n",
    "\n",
    "fig, axes = plt.subplots(1, 5, figsize=(20, 10))\n",
    "\n",
    "for i in range(5):\n",
    "    \n",
    "    random_choice = np.random.choice(len(X_fp))\n",
    "    \n",
    "    axes[i].imshow(X_fp[random_choice].reshape(48, 48))\n",
    "    axes[i].axis('off')"
   ]
  },
  {
   "cell_type": "code",
   "execution_count": null,
   "id": "497baf7f",
   "metadata": {},
   "outputs": [],
   "source": [
    "X_fn = X_test[(y_pred == 0) & (y_test == 1)]  \n",
    "\n",
    "fig, axes = plt.subplots(1, 5, figsize=(20, 10))\n",
    "\n",
    "for i in range(5):\n",
    "    \n",
    "    random_choice = np.random.choice(len(X_fn))\n",
    "    axes[i].imshow(X_fn[random_choice].reshape(48, 48))\n",
    "    axes[i].axis('off')"
   ]
  },
  {
   "cell_type": "code",
   "execution_count": null,
   "id": "e3b099c4",
   "metadata": {},
   "outputs": [],
   "source": [
    "def face_prediction(image):\n",
    "    x = image.reshape(1, 48, 48, 1)\n",
    "    x = x / 255\n",
    "    age_predict = int(age_model.predict(x))\n",
    "    gender_predict = int(gender_model.predict_classes(x))\n",
    "    gender = {0: 'Male', 1: 'Female'}    \n",
    "    plt.imshow(image)\n",
    "    plt.title('{0}, {1}'.format(age_predict, gender[gender_predict]))\n",
    "    plt.axis('off')\n"
   ]
  },
  {
   "cell_type": "markdown",
   "id": "7ce989ef",
   "metadata": {},
   "source": [
    "## Final testing"
   ]
  },
  {
   "cell_type": "code",
   "execution_count": null,
   "id": "799fa0ab",
   "metadata": {},
   "outputs": [],
   "source": [
    "random_face = np.random.choice(len(df))\n",
    "\n",
    "age = df['age'][random_face]\n",
    "gender = df['gender'][random_face]\n",
    "\n",
    "plt.imshow(df['pixels'][random_face])\n",
    "plt.title('Age: {0}, Sex: {1}'.format(age, gender))\n",
    "plt.axis('off');\n"
   ]
  },
  {
   "cell_type": "code",
   "execution_count": null,
   "id": "2633beaa",
   "metadata": {},
   "outputs": [],
   "source": [
    "random_face = np.random.choice(len(df))\n",
    "\n",
    "age = df['age'][random_face]\n",
    "gender = df['gender'][random_face]\n",
    "\n",
    "plt.imshow(df['pixels'][random_face])\n",
    "plt.title('Age: {0}, Sex: {1}'.format(age, gender))\n",
    "plt.axis('off');"
   ]
  },
  {
   "cell_type": "code",
   "execution_count": null,
   "id": "c779894b",
   "metadata": {},
   "outputs": [],
   "source": [
    "random_face = np.random.choice(len(df))\n",
    "\n",
    "age = df['age'][random_face]\n",
    "gender = df['gender'][random_face]\n",
    "\n",
    "plt.imshow(df['pixels'][random_face])\n",
    "plt.title('Age: {0}, Sex: {1}'.format(age, gender))\n",
    "plt.axis('off');"
   ]
  },
  {
   "cell_type": "code",
   "execution_count": null,
   "id": "2be612b7",
   "metadata": {},
   "outputs": [],
   "source": []
  }
 ],
 "metadata": {
  "kernelspec": {
   "display_name": "Python 3 (ipykernel)",
   "language": "python",
   "name": "python3"
  },
  "language_info": {
   "codemirror_mode": {
    "name": "ipython",
    "version": 3
   },
   "file_extension": ".py",
   "mimetype": "text/x-python",
   "name": "python",
   "nbconvert_exporter": "python",
   "pygments_lexer": "ipython3",
   "version": "3.10.13"
  }
 },
 "nbformat": 4,
 "nbformat_minor": 5
}
